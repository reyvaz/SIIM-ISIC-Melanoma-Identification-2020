{
 "cells": [
  {
   "cell_type": "markdown",
   "metadata": {
    "id": "hDT5vNM5m7Cb"
   },
   "source": [
    "# Identifying Melanoma in Skin Lesion Images\n",
    "\n",
    "### Solution to the 2020 SIIM-ISIC Melanoma Classification Challenge\n",
    "\n",
    "By Reynaldo Vazquez <br>\n",
    "[rexvaz.com](https://rexvaz.com/)<br>\n",
    "August 2020 \n",
    "<br><br>\n",
    "\n",
    "This notebook contains my solution to the [SIIM-ISIC Melanoma Classification](https://www.kaggle.com/c/siim-isic-melanoma-classification) competition hosted by [Kaggle](https://www.kaggle.com/), The Society for Imaging Informatics in Medicine ([SIIM](https://siim.org/)), and The International Skin Imaging Collaboration ([ISIC](https://www.isic-archive.com/)) that ended on August 17, 2020. The goal of the competition was to identify melanoma in images of skin lesions.\n",
    "\n",
    "The evaluation metric used is the [area under the ROC curve](https://en.wikipedia.org/wiki/Receiver_operating_characteristic) between the predicted probability and the observed target. \n",
    "\n",
    "## Model\n",
    "\n",
    "My final submission, which ranked top 11 percent in the competition with a private test AUC of 0.9363, consisted on an ensemble of 15 CNN classifiers as follows.\n",
    "\n",
    "- 5 cross-validation splits were used to train 3 different EfficientNet based models. EfficientNet B3, B4, and B6.\n",
    "- All classifiers were trained using Tensorflow Keras 2.x on Google Colab TPUs\n",
    "- All used either imagenet or noisy-student pre-trained weights.\n",
    "- Learning rate schedule with warm-up, constant, and exponential decay.\n",
    "- All classifiers trained with either Rectified-Adam (Radam) or Adam with Nesterov Momentum (Nadam) optimizers. \n",
    "- Binary Cross-Entropy loss with 5% label smoothing was used throughout.\n",
    "\n",
    "\n",
    "## Data\n",
    "\n",
    "For training on TPU I used data (images, labels) contained in TFRecords created and made available by Chris Deotte. The training dataset consisted of the [official 2020 competition data](https://www.kaggle.com/cdeotte/melanoma-1024x1024) and I expanded it with the data from the [2018 competition](https://www.kaggle.com/cdeotte/isic2019-768x768). The data in these TFRecs was distributed so that:\n",
    "\n",
    "- All images from a single patient are contained within a TFRecord.\n",
    "- All TFRecords contain similar proportions of benign/malignant cases.\n",
    "- Image counts, and image counts per patient are balanced across TFRecords. \n",
    "\n",
    "The TFRecords' data distribution features carried-over into the cross-validation splits.\n",
    "\n",
    "TFRecords were processed using Tensorflow Dataset API to support TPU training. \n",
    "- Images were resized to match the original corresponding EfficientNet version size.\n",
    "- Images were randomly augmented during training. Augmentations consisted of:\n",
    "    - Zoom-in, rotate, shear, horizontal and vertical flip, hue, brightness, saturation, and contrast. \n",
    "- Since the dataset is heavily unbalanced i.e. malignant cases make up less than 2 percent of images, I oversampled malignant cases by a factor of 4. \n",
    "- Data was divided in 5 cross-validation folds. The within-fold (i.e. training) part of each fold was complemented with the 2018 data, while the out-of-fold (OOF) was not. \n",
    "\n",
    "## Inference and Post-Processing\n",
    "Inference was made with un-augmented images as well as with up to 30 random test time augmentations (TTA) with each of the 15 classifiers. \n",
    "\n",
    "- Predictions across augmentations were weighted equally within each classifier. \n",
    "- Test predictions across EfficientNet versions for models trained within each fold were weighted according to their performance on their corresponding OOF (validation) data. This yielded 5 predictions, each corresponding to 1 of the 5 cross-validation folds.\n",
    "- The 5 test predictions above were then weighted equally (i.e. simple-averaged) to yield a single prediction. \n",
    "\n",
    "\n",
    "## **Credits**:\n",
    "- Thanks to **The Society for Imaging Informatics in Medicine**, **The International Skin Imaging Collaboration**, and **Kaggle** for hosting this competition and for making this data available. Thanks to the **Kaggle community** for great insights and very valuable guidance.\n",
    "\n",
    "- Pavel Yakubovskiy's (qubvel) [EfficientNet library](https://github.com/qubvel/efficientnet) was used to set up all classifiers in this notebook. The pre-trained imagenet and noisy-student weights also come from his library. \n",
    "\n",
    "- Wei Hao Khoong's Notebook [[SIIM-ISIC] Multiple Model Training + Stacking](https://www.kaggle.com/khoongweihao/siim-isic-multiple-model-training-stacking) provided me great insight into TPU training, TensorFlow 2.x, Dataset API, as well as model stacking. \n",
    "\n",
    "- The TFRecords used for training come from Chris Deotte's Kaggle datasets [Melanoma TFRecords 1024x1024](https://www.kaggle.com/cdeotte/melanoma-1024x1024) for the 2020 data, and [ISIC 2019 TFRecords 768x768](https://www.kaggle.com/cdeotte/isic2019-768x768) for the 2018 data.\n",
    "\n",
    "- Chris Deotte's notebook [Triple Stratified KFold with TFRecords](https://www.kaggle.com/cdeotte/triple-stratified-kfold-with-tfrecords/). Not only it was an inspiration, but it provided great guidance into the developing of this notebook. Also, the augmentation functions for image shear and rotate used here were adapted from his notebook. \n"
   ]
  },
  {
   "cell_type": "markdown",
   "metadata": {
    "id": "DKnbu6crPPPh"
   },
   "source": [
    "## Reproduce Notebook (Instructions)"
   ]
  },
  {
   "cell_type": "markdown",
   "metadata": {
    "id": "UgWwbN0bPWfT"
   },
   "source": [
    "To reproduce this notebook it is required that the data GCS paths below be updated by following the following steps. \n",
    "\n",
    "1. Navigate to this [link](https://www.kaggle.com/c/siim-isic-melanoma-classification/data), sign in (Kaggle account required) and agree to the data use terms by joining the competition.\n",
    "2. Create a new Kaggle notebook. \n",
    "3. Attach the following 2 datasets to the notebook by clicking the `Add Data` link near the upper right corner.\n",
    "    - [Melanoma TFRecords 1024x1024](https://www.kaggle.com/cdeotte/melanoma-1024x1024)\n",
    "    -[ISIC 2019 TFRecords 768x768](https://www.kaggle.com/cdeotte/isic2019-768x768)\n",
    "\n",
    "4. Paste and run the code below into the new notebook you created.\n",
    "```\n",
    "from kaggle_datasets import KaggleDatasets\n",
    "GCS_PATH_2020 = KaggleDatasets().get_gcs_path('melanoma-1024x1024')\n",
    "print(GCS_PATH_2020)\n",
    "GCS_PATH_2019 = KaggleDatasets().get_gcs_path('isic2019-768x768')\n",
    "print(GCS_PATH_2019)\n",
    "```\n",
    "5. Use the printed links to replace the GCS Paths in this notebook. Note these links will expire within a few days. \n",
    "\n",
    "Once the GCS Paths have been updated, make sure TPU is chosen as a hardware accelerator and run all. "
   ]
  },
  {
   "cell_type": "markdown",
   "metadata": {
    "id": "5g9p9sX0TEqz"
   },
   "source": [
    "# Setup"
   ]
  },
  {
   "cell_type": "code",
   "execution_count": 1,
   "metadata": {
    "cellView": "form",
    "colab": {
     "base_uri": "https://localhost:8080/"
    },
    "id": "zVg87YUdJ0Wy",
    "outputId": "e1ba3043-d4f8-4b9a-eec0-e121a62b35c7"
   },
   "outputs": [
    {
     "name": "stdout",
     "output_type": "stream",
     "text": [
      "\u001b[K     |████████████████████████████████| 516.2MB 29kB/s \n",
      "\u001b[K     |████████████████████████████████| 399kB 46.9MB/s \n",
      "\u001b[K     |████████████████████████████████| 3.0MB 38.0MB/s \n",
      "\u001b[K     |████████████████████████████████| 460kB 35.9MB/s \n",
      "\u001b[?25h\n",
      "Tensorflow version 2.2.0\n"
     ]
    }
   ],
   "source": [
    "#@markdown Fix for Colab + Tensorflow 2.3 TPU issues. Downgrades to Tensorflow\n",
    "#@markdown 2.2 and fixes TPU compatibility.\n",
    "# TF 2.3 on Colab TPU remain broken as of Nov 11, 2020\n",
    "# refer to https://github.com/googlecolab/colabtools/issues/1470\n",
    "\n",
    "tpu_temp_fix = True #@param {type:\"boolean\"}\n",
    "\n",
    "if tpu_temp_fix:\n",
    "    # Code to use TF 2.2.0\n",
    "    # Needed for Colab TPU compatibility with TF 2.2.0\n",
    "    !pip install tensorflow==2.2.0 tensorflow_gcs_config==2.2.0 --quiet\n",
    "    import tensorflow as tf\n",
    "    import requests, os\n",
    "    resp = requests.post(\"http://{}:8475/requestversion/{}\".format(os.environ[\"COLAB_TPU_ADDR\"].split(\":\")[0], tf.__version__))\n",
    "    if resp.status_code != 200:\n",
    "        print(\"Failed to switch the TPU to TF {}\".format(version))\n",
    "    print(\"\\nTensorflow version \" + tf.__version__)"
   ]
  },
  {
   "cell_type": "markdown",
   "metadata": {
    "id": "UUc99UZlTLzO"
   },
   "source": [
    "### Required Libraries"
   ]
  },
  {
   "cell_type": "code",
   "execution_count": 2,
   "metadata": {
    "colab": {
     "base_uri": "https://localhost:8080/"
    },
    "id": "0Pdq93gSWk88",
    "outputId": "b828212f-5e0a-4e71-f556-8ebca90dcab7"
   },
   "outputs": [
    {
     "name": "stdout",
     "output_type": "stream",
     "text": [
      "\u001b[K     |████████████████████████████████| 51kB 2.9MB/s \n",
      "\u001b[K     |████████████████████████████████| 92kB 4.8MB/s \n",
      "\u001b[K     |████████████████████████████████| 1.3MB 9.9MB/s \n",
      "\u001b[K     |████████████████████████████████| 143kB 25.1MB/s \n",
      "\u001b[K     |████████████████████████████████| 296kB 24.1MB/s \n",
      "\u001b[?25h  Building wheel for idna-ssl (setup.py) ... \u001b[?25l\u001b[?25hdone\n",
      "\n",
      "Tensorflow version 2.2.0\n"
     ]
    }
   ],
   "source": [
    "import os, sys, math, pathlib, re, gc, time, random\n",
    "import numpy as np\n",
    "import pandas as pd\n",
    "from matplotlib import pyplot as plt\n",
    "from datetime import datetime, timedelta\n",
    "from sklearn.model_selection import KFold\n",
    "from sklearn.metrics import roc_auc_score\n",
    "\n",
    "import tensorflow as tf\n",
    "import tensorflow.keras.layers as L\n",
    "import tensorflow.keras.backend as K\n",
    "import tensorflow_addons as tfa\n",
    "\n",
    "!pip install -q efficientnet\n",
    "import efficientnet.tfkeras as efn\n",
    "!pip install -q gcsfs\n",
    "\n",
    "print(\"\\nTensorflow version \" + tf.__version__)\n",
    "AUTO = tf.data.experimental.AUTOTUNE \n",
    "\n",
    "!wget -q https://raw.githubusercontent.com/reyvaz/SIIM-ISIC-Melanoma-Identification-2020/master/utils.py\n",
    "from utils import *"
   ]
  },
  {
   "cell_type": "markdown",
   "metadata": {
    "id": "mQZEAaS03Brw"
   },
   "source": [
    "### TPU Distribution Strategy"
   ]
  },
  {
   "cell_type": "code",
   "execution_count": 3,
   "metadata": {
    "cellView": "form",
    "colab": {
     "base_uri": "https://localhost:8080/"
    },
    "id": "nUFTgrTQXbVK",
    "outputId": "11856750-db85-4c0f-d101-b9038a9f9851"
   },
   "outputs": [
    {
     "name": "stdout",
     "output_type": "stream",
     "text": [
      "INFO:tensorflow:Initializing the TPU system: grpc://10.127.136.194:8470\n",
      "INFO:tensorflow:Clearing out eager caches\n",
      "INFO:tensorflow:Finished initializing TPU system.\n",
      "INFO:tensorflow:Found TPU system:\n",
      "INFO:tensorflow:*** Num TPU Cores: 8\n",
      "INFO:tensorflow:*** Num TPU Workers: 1\n",
      "INFO:tensorflow:*** Num TPU Cores Per Worker: 8\n",
      "INFO:tensorflow:*** Available Device: _DeviceAttributes(/job:localhost/replica:0/task:0/device:CPU:0, CPU, 0, 0)\n",
      "INFO:tensorflow:*** Available Device: _DeviceAttributes(/job:localhost/replica:0/task:0/device:XLA_CPU:0, XLA_CPU, 0, 0)\n",
      "INFO:tensorflow:*** Available Device: _DeviceAttributes(/job:worker/replica:0/task:0/device:CPU:0, CPU, 0, 0)\n",
      "INFO:tensorflow:*** Available Device: _DeviceAttributes(/job:worker/replica:0/task:0/device:TPU:0, TPU, 0, 0)\n",
      "INFO:tensorflow:*** Available Device: _DeviceAttributes(/job:worker/replica:0/task:0/device:TPU:1, TPU, 0, 0)\n",
      "INFO:tensorflow:*** Available Device: _DeviceAttributes(/job:worker/replica:0/task:0/device:TPU:2, TPU, 0, 0)\n",
      "INFO:tensorflow:*** Available Device: _DeviceAttributes(/job:worker/replica:0/task:0/device:TPU:3, TPU, 0, 0)\n",
      "INFO:tensorflow:*** Available Device: _DeviceAttributes(/job:worker/replica:0/task:0/device:TPU:4, TPU, 0, 0)\n",
      "INFO:tensorflow:*** Available Device: _DeviceAttributes(/job:worker/replica:0/task:0/device:TPU:5, TPU, 0, 0)\n",
      "INFO:tensorflow:*** Available Device: _DeviceAttributes(/job:worker/replica:0/task:0/device:TPU:6, TPU, 0, 0)\n",
      "INFO:tensorflow:*** Available Device: _DeviceAttributes(/job:worker/replica:0/task:0/device:TPU:7, TPU, 0, 0)\n",
      "INFO:tensorflow:*** Available Device: _DeviceAttributes(/job:worker/replica:0/task:0/device:TPU_SYSTEM:0, TPU_SYSTEM, 0, 0)\n",
      "INFO:tensorflow:*** Available Device: _DeviceAttributes(/job:worker/replica:0/task:0/device:XLA_CPU:0, XLA_CPU, 0, 0)\n"
     ]
    }
   ],
   "source": [
    "%%capture\n",
    "#@markdown Distribution strategy\n",
    "try: tpu\n",
    "except:\n",
    "    try:\n",
    "        # TPU detection. No parameters necessary if TPU_NAME environment \n",
    "        # variable is set.\n",
    "        tpu = tf.distribute.cluster_resolver.TPUClusterResolver()\n",
    "        print('Running on TPU ', tpu.master())\n",
    "    except ValueError:\n",
    "        tpu = None\n",
    "        print('TPU not found')\n",
    "    if tpu:\n",
    "        tf.config.experimental_connect_to_cluster(tpu)\n",
    "        tf.tpu.experimental.initialize_tpu_system(tpu)\n",
    "        if float(tf.__version__[:3]) < 2.3:\n",
    "            strategy = tf.distribute.experimental.TPUStrategy(tpu) # for tf 2.2\n",
    "        else: strategy = tf.distribute.TPUStrategy(tpu) # for tf 2.3\n",
    "    else:\n",
    "        # Default distribution strategy in Tensorflow. Works on CPU and single GPU.\n",
    "        strategy = tf.distribute.get_strategy()\n",
    "\n",
    "    # os.getenv('TPU_NAME')\n",
    "    "
   ]
  },
  {
   "cell_type": "markdown",
   "metadata": {
    "id": "EGVwHWg13HeY"
   },
   "source": [
    "### Global Variables, GCS Paths, and Cross-Validation Distribution\n",
    "\n",
    "\n",
    "\n"
   ]
  },
  {
   "cell_type": "code",
   "execution_count": 4,
   "metadata": {
    "id": "yoyOAuiQk6-z"
   },
   "outputs": [],
   "source": [
    "N_CHANNELS = 3\n",
    "N_CLASSES = 1 # use 1 for binary \n",
    "\n",
    "REPLICAS = strategy.num_replicas_in_sync\n",
    "IMAGES_PER_REPLICA = 16 \n",
    "BATCH_SIZE = IMAGES_PER_REPLICA * REPLICAS\n",
    "\n",
    "EPOCHS = 16\n",
    "buffer_size = 10000 #(used for data shuffling OOM if too large)"
   ]
  },
  {
   "cell_type": "markdown",
   "metadata": {
    "id": "AGEVaMAbAI-Y"
   },
   "source": [
    "**GCS Paths**\n",
    "\n",
    "Update these 2 paths to reproduce, see instructions above."
   ]
  },
  {
   "cell_type": "code",
   "execution_count": 5,
   "metadata": {
    "id": "fVgpEx_cUQrb"
   },
   "outputs": [],
   "source": [
    "GCS_PATH_2020 = 'gs://kds-e586f041bce9127f99a1ae5d801c07bc104d5cde20ee67f6df0c6962'\n",
    "GCS_PATH_2019 = 'gs://kds-2e7f8b2f9698c65cb1e8711005a1af971fcc9ed5a063c184eddd747d'"
   ]
  },
  {
   "cell_type": "code",
   "execution_count": 6,
   "metadata": {
    "cellView": "form",
    "id": "s-qyZXRF7sbw"
   },
   "outputs": [],
   "source": [
    "#@title Process Files and Cross-Validation Folds\n",
    "TRAIN_2020 = tf.io.gfile.glob(GCS_PATH_2020 + '/train*.tfrec')\n",
    "\n",
    "legacy_files = tf.io.gfile.glob(GCS_PATH_2019 + '/*.tfrec')\n",
    "# Filenames ending in odd numbers correpond to 2018 files\n",
    "# even numbers correspond to 2019\n",
    "TRAIN_2018 = legacy_files[::2] \n",
    "TRAIN_2019 = legacy_files[1::2]\n",
    "\n",
    "N_FOLDS = 5\n",
    "skf = KFold(n_splits=N_FOLDS)\n",
    "folds ={}\n",
    "for fold,(idxT,idxV) in enumerate(skf.split(np.arange(15))):\n",
    "    folds.update({fold: {'val': idxV, 'train': idxT}})\n",
    "\n",
    "def get_fold_file_lists(fold, data_2018 = True):\n",
    "    TRAINING_FILENAMES = [TRAIN_2020[i] for i in fold['train']]\n",
    "    VALIDATION_FILENAMES = [TRAIN_2020[i] for i in fold['val']]\n",
    "    if data_2018: \n",
    "        TRAINING_FILENAMES = [val for pair in zip(TRAINING_FILENAMES, TRAIN_2018) for val in pair]\n",
    "        TRAINING_FILENAMES.insert(5, TRAIN_2018[-1])\n",
    "        TRAINING_FILENAMES.insert(15, TRAIN_2018[-2])\n",
    "        TRAINING_FILENAMES.insert(21, TRAIN_2018[-3])\n",
    "    return TRAINING_FILENAMES, VALIDATION_FILENAMES\n",
    "\n",
    "del fold"
   ]
  },
  {
   "cell_type": "markdown",
   "metadata": {
    "id": "_c4FhG1puvxz"
   },
   "source": [
    "# Process TFRecs (Dataset API Pipeline)"
   ]
  },
  {
   "cell_type": "code",
   "execution_count": 7,
   "metadata": {
    "id": "9iMaSL1a0eJD"
   },
   "outputs": [],
   "source": [
    "def read_labeled_tfrecord(example):\n",
    "    LABELED_TFREC_FORMAT = {\n",
    "        'image': tf.io.FixedLenFeature([], tf.string), \n",
    "        'image_name' : tf.io.FixedLenFeature([], tf.string),\n",
    "        'target': tf.io.FixedLenFeature([], tf.int64), \n",
    "    }\n",
    "    example = tf.io.parse_single_example(example, LABELED_TFREC_FORMAT)\n",
    "    return example['image'], example['image_name'], example['target'] \n",
    "\n",
    "def read_unlabeled_tfrecord(example):\n",
    "    UNLABELED_TFREC_FORMAT = {\n",
    "        'image': tf.io.FixedLenFeature([], tf.string), \n",
    "        'image_name': tf.io.FixedLenFeature([], tf.string), \n",
    "    }\n",
    "    example = tf.io.parse_single_example(example, UNLABELED_TFREC_FORMAT)\n",
    "    return example['image'], example['image_name']\n",
    "\n",
    "def load_dataset(filenames, labeled = True, ordered = False):\n",
    "    dataset = tf.data.TFRecordDataset(filenames, num_parallel_reads=AUTO)\n",
    "    if not ordered: \n",
    "        ignore_order = tf.data.Options()\n",
    "        ignore_order.experimental_deterministic = False \n",
    "        dataset = dataset.with_options(ignore_order)\n",
    "    dataset = dataset.map(read_labeled_tfrecord if labeled else \n",
    "                          read_unlabeled_tfrecord, num_parallel_calls=AUTO)\n",
    "    return dataset"
   ]
  },
  {
   "cell_type": "code",
   "execution_count": 8,
   "metadata": {
    "id": "0zV8OifTm_E2"
   },
   "outputs": [],
   "source": [
    "def decode_image(image_data, label, resize, target_size):\n",
    "    # Used for the validation set (for now)\n",
    "    image = tf.image.decode_jpeg(image_data, channels=N_CHANNELS)\n",
    "    image = tf.cast(image, tf.float32) / 255.0  # convert image to floats in [0, 1] range\n",
    "    if resize:\n",
    "        image = tf.image.resize(image, target_size)\n",
    "    image = tf.reshape(image, [*target_size, N_CHANNELS]) # explicit size NEEDED for TPU\n",
    "    return image, label\n",
    "\n",
    "def resize_transforms(image, label_or_id, resize, target_size):\n",
    "    # for training, 2nd arg will be a label; for testing, image_id\n",
    "    # Initial resize related transforms, perform before data_augment\n",
    "    image = tf.image.decode_jpeg(image, channels=N_CHANNELS)\n",
    "    image = tf.cast(image, tf.float32) / 255.0  # convert image to floats in [0, 1] range\n",
    "\n",
    "    # some images will be zoomed from the orig size, then resized, to preserve quality. \n",
    "    # by central_cropping + resizing, this effectively zooms, possibly losslessly,\n",
    "    # depending on the difference between original and target size. \n",
    "    #if  tf.keras.backend.random_bernoulli((1,), p=0.3) > 0:\n",
    "    if tf.keras.backend.random_binomial((1,), p=0.3) > 0:\n",
    "        image = tf.image.central_crop(image, 0.6)\n",
    "        image = tf.image.resize(image, target_size)\n",
    "    elif tf.keras.backend.random_binomial((1,), p=0.25) > 0:\n",
    "    #elif tf.keras.backend.random_bernoulli((1,), p=0.25) > 0:\n",
    "        image = tf.image.central_crop(image, 0.9)\n",
    "        image = tf.image.resize(image, target_size)\n",
    "    elif resize:\n",
    "        image = tf.image.resize(image, target_size)\n",
    "    image = tf.reshape(image, [*target_size, N_CHANNELS]) # explicit size NEEDED for TPU\n",
    "    return image, label_or_id\n",
    "\n",
    "def data_augment(image, label_or_id, DIM): \n",
    "    # during TTA, label_or_id will be image_name for test set.\n",
    "    if tf.keras.backend.random_binomial((1,), p=0.4) > 0:\n",
    "    #if tf.keras.backend.random_bernoulli((1,), p=0.4) > 0:\n",
    "        image = rotate_img(image, DIM = DIM)\n",
    "    elif tf.keras.backend.random_binomial((1,), p=0.2) > 0:\n",
    "    #elif tf.keras.backend.random_bernoulli((1,), p=0.2) > 0:\n",
    "        image = shear_img(image, DIM = DIM)\n",
    "    image = tf.image.random_flip_left_right(image)\n",
    "    image = tf.image.random_flip_up_down(image)\n",
    "    image = tf.image.random_hue(image, 0.025)\n",
    "    image = tf.image.random_saturation(image, 0.6, 1.4)\n",
    "    image = tf.image.random_contrast(image, 0.7, 1.4)\n",
    "    image = tf.image.random_brightness(image, 0.1)\n",
    "    return image, label_or_id"
   ]
  },
  {
   "cell_type": "code",
   "execution_count": 9,
   "metadata": {
    "id": "eQNYis3n4vLq"
   },
   "outputs": [],
   "source": [
    "def get_training_dataset(file_list, dim):\n",
    "    dataset = load_dataset(file_list)\n",
    "    dataset = dataset.map(lambda image, image_name, target: \n",
    "                          resize_transforms(image, target, True, [dim, dim]), \n",
    "                          num_parallel_calls=AUTO)\n",
    "    dataset = dataset.map(lambda image, target: \n",
    "                          data_augment(image, target, DIM = dim), \n",
    "                          num_parallel_calls=AUTO)\n",
    "    #dataset = dataset.cache()  \n",
    "    dataset = dataset.repeat() \n",
    "    dataset = dataset.shuffle(buffer_size = buffer_size)\n",
    "    dataset = dataset.batch(BATCH_SIZE)\n",
    "    dataset = dataset.prefetch(AUTO) \n",
    "    return dataset\n",
    "\n",
    "def get_validation_dataset(file_list, dim, ordered = False):\n",
    "    # uses decode_image instead of resize_transform & data_augment\n",
    "    # it is used for validation set used during training (i.e. no augmentations)\n",
    "    dataset = load_dataset(file_list, ordered = ordered)\n",
    "    dataset = dataset.map(lambda image, image_name, target: \n",
    "                          decode_image(image, target, True, [dim,dim]),\n",
    "                          num_parallel_calls=AUTO)\n",
    "    dataset = dataset.batch(BATCH_SIZE)\n",
    "    dataset = dataset.cache() \n",
    "    dataset = dataset.prefetch(AUTO) \n",
    "    return dataset\n",
    "\n",
    "def build_datasets(model_dict):\n",
    "    fold = model_dict['fold']\n",
    "    DIM = model_dict['DIM']\n",
    "    # Fold Filenames, Counts\n",
    "    TRAINING_FILENAMES, VALIDATION_FILENAMES = get_fold_file_lists(folds[fold], data_2018=True)\n",
    "    NUM_TRAINING_IMAGES = count_data_items(TRAINING_FILENAMES)\n",
    "    NUM_VALIDATION_IMAGES = count_data_items(VALIDATION_FILENAMES)\n",
    "    STEPS_PER_EPOCH = np.ceil(NUM_TRAINING_IMAGES/BATCH_SIZE).astype(int)\n",
    "\n",
    "    # Dataset\n",
    "    train_dataset = get_training_dataset(TRAINING_FILENAMES, DIM)\n",
    "    valid_dataset = get_validation_dataset(VALIDATION_FILENAMES, dim = DIM, ordered = False)\n",
    "    print('\\n')\n",
    "    describe_ds(train_dataset)\n",
    "    describe_ds(valid_dataset)\n",
    "    return train_dataset, valid_dataset, STEPS_PER_EPOCH, [NUM_TRAINING_IMAGES, NUM_VALIDATION_IMAGES]"
   ]
  },
  {
   "cell_type": "markdown",
   "metadata": {
    "id": "7zy9Qo669L5D"
   },
   "source": [
    "# Data Visualization"
   ]
  },
  {
   "cell_type": "code",
   "execution_count": 10,
   "metadata": {
    "cellView": "form",
    "id": "QmD47yqY9Kc4"
   },
   "outputs": [],
   "source": [
    "gen_examples = True #@param {type:\"boolean\"}\n",
    "num_batches = 5 #@param [2, 3, 5, 10] {type:'raw'}\n",
    "\n",
    "if gen_examples:\n",
    "    temp_filenames, _ = get_fold_file_lists(folds[4], data_2018=False)\n",
    "    temp_dataset = get_training_dataset(temp_filenames, 224)\n",
    "    raw_tuples = generate_examples(ds = temp_dataset, n_batches = num_batches)\n",
    "    "
   ]
  },
  {
   "cell_type": "code",
   "execution_count": 11,
   "metadata": {
    "id": "Kro_8bww9Kmz"
   },
   "outputs": [],
   "source": [
    "idx = -1"
   ]
  },
  {
   "cell_type": "code",
   "execution_count": 12,
   "metadata": {
    "colab": {
     "base_uri": "https://localhost:8080/",
     "height": 255
    },
    "id": "HjtSjrfJ9KqR",
    "outputId": "77cde226-508c-457f-ef2f-f9c3e164e8a6"
   },
   "outputs": [
    {
     "name": "stdout",
     "output_type": "stream",
     "text": [
      "Label: Benign\n",
      "Image size: (224, 224, 3)\n"
     ]
    },
    {
     "data": {
      "image/png": "[encoded data removed]",
      "text/plain": [
       "<Figure size 252x252 with 1 Axes>"
      ]
     },
     "metadata": {
      "needs_background": "dark",
      "tags": []
     },
     "output_type": "display_data"
    }
   ],
   "source": [
    "idx +=1\n",
    "if gen_examples:\n",
    "    if idx >= len(raw_tuples): idx = -1\n",
    "    example_tuple = raw_tuples[idx]\n",
    "    plot_example(example_tuple, print_size=True)\n",
    "else: print('examples have not been generated')"
   ]
  },
  {
   "cell_type": "markdown",
   "metadata": {
    "id": "nRHE82lQu4iy"
   },
   "source": [
    "# Model"
   ]
  },
  {
   "cell_type": "code",
   "execution_count": 13,
   "metadata": {
    "id": "P4MpAAEeADZo"
   },
   "outputs": [],
   "source": [
    "def build_model(base, n_classes, shape, head_dropout = False):\n",
    "    inp = L.Input(shape=shape)\n",
    "    x = base(inp)\n",
    "    x = L.GlobalAveragePooling2D()(x)\n",
    "\n",
    "    if head_dropout:\n",
    "        x = L.Dropout(head_dropout)(x)\n",
    "\n",
    "    x_out = L.Dense(n_classes, activation='sigmoid')(x)\n",
    "    model = tf.keras.Model(inputs=inp, outputs=x_out, \n",
    "                           name='{}_base_model'.format(base.name.title()))\n",
    "    return model\n",
    "\n",
    "def ensemble_component(model_dict):\n",
    "    # Get Specs\n",
    "    base_model = model_dict['base_model']\n",
    "    DIM = model_dict['DIM']\n",
    "    weights = model_dict['weights']\n",
    "    opt = model_dict['opt']\n",
    "    head_dropout = model_dict['head_dropout']\n",
    "    INPUT_SHAPE = (DIM, DIM, N_CHANNELS)\n",
    "\n",
    "    # Build Model\n",
    "    K.clear_session()\n",
    "    with strategy.scope():\n",
    "        base = base_model(weights=weights, include_top=False, \n",
    "                          input_shape=INPUT_SHAPE)                                       \n",
    "        model = build_model(base, N_CLASSES, INPUT_SHAPE, \n",
    "                            head_dropout = head_dropout) \n",
    "        model.compile(optimizer=opt, loss=loss, metrics=['AUC']) \n",
    "    return model, base.name"
   ]
  },
  {
   "cell_type": "code",
   "execution_count": 14,
   "metadata": {
    "cellView": "form",
    "colab": {
     "base_uri": "https://localhost:8080/",
     "height": 265
    },
    "id": "q79a3XF94vTI",
    "outputId": "9ada414c-a832-4946-fe67-ef240072125a"
   },
   "outputs": [
    {
     "data": {
      "image/png": "[encoded data removed]",
      "text/plain": [
       "<Figure size 576x288 with 1 Axes>"
      ]
     },
     "metadata": {
      "needs_background": "dark",
      "tags": []
     },
     "output_type": "display_data"
    }
   ],
   "source": [
    "#@title Learning Rate Schedule, Loss\n",
    "lr_params =  [1e-5,  3e-4,  1e-6, 2, 2, 8e-1]\n",
    "\n",
    "def lrfn(epoch, lr_params = lr_params):\n",
    "    lr_start, lr_max, lr_min, lr_ramp_ep, lr_sus_ep, lr_decay = lr_params\n",
    "    if epoch < lr_ramp_ep:\n",
    "        lr = (lr_max - lr_start) / lr_ramp_ep * epoch + lr_start\n",
    "    elif epoch < lr_ramp_ep + lr_sus_ep:\n",
    "        lr = lr_max \n",
    "    else:\n",
    "        lr = (lr_max - lr_min)*lr_decay**(epoch - lr_ramp_ep - lr_sus_ep) + lr_min\n",
    "    return lr\n",
    "\n",
    "def lr_schedule_builder(params):\n",
    "    return tf.keras.callbacks.LearningRateScheduler(\n",
    "        lambda epoch: lrfn(epoch, params), verbose=False) \n",
    "\n",
    "lr_sched = lr_schedule_builder(lr_params)\n",
    "\n",
    "label_smoothing = 0.05\n",
    "loss = tf.keras.losses.BinaryCrossentropy(label_smoothing=label_smoothing) \n",
    "\n",
    "plot_lr_timeline(lrfn, lr_params, num_epochs = EPOCHS)"
   ]
  },
  {
   "cell_type": "code",
   "execution_count": 15,
   "metadata": {
    "cellView": "form",
    "id": "brlK9TBSRapF"
   },
   "outputs": [],
   "source": [
    "#@markdown Summary and Log Function\n",
    "def sess_summary(model_dict, counts, dataset_deets = True): \n",
    "    DIM = model_dict['DIM']\n",
    "    INPUT_SHAPE = (DIM, DIM, N_CHANNELS)\n",
    "    log_name = '{}_F{}_summary.txt'.format(model_dict['name'], model_dict['fold'])\n",
    "    with open(log_name, 'w') as f:\n",
    "        f.write('\\nBase: {}'.format(base_name.title()))\n",
    "        f.write('\\nFold num: {}'.format(model_dict['fold']))\n",
    "        f.write('\\nWeights: {}\\n'.format(model_dict['weights']))\n",
    "\n",
    "        if dataset_deets:\n",
    "            f.write('\\nValidation shards: {}'.format(folds[model_dict['fold']]['val']))\n",
    "            f.write('\\nTotal training images: {}'.format(counts[0]))\n",
    "            f.write('\\nTotal val images: {}'.format(counts[1]))\n",
    "            f.write('\\nBatch size: {}'.format(BATCH_SIZE))\n",
    "            f.write('\\nMax number of epochs: {}'.format(EPOCHS))\n",
    "            f.write('\\nSteps per epoch: {}\\n'.format(STEPS_PER_EPOCH))\n",
    "\n",
    "        f.write('\\nTPU implemented: {}'.format('Yes' if tpu != None else 'No'))\n",
    "        f.write('\\nNumber of replicas: {}'.format(strategy.num_replicas_in_sync))\n",
    "        f.write('\\nSize of input: {}'.format(INPUT_SHAPE))\n",
    "        f.write('\\nOptimizer: {}'.format(str(model_dict['opt']).split('.')[-2].title()))\n",
    "        f.write('\\nLR strategy: {}'.format(str(lr_sched).split('.')[4].split(' ')[0]))\n",
    "        f.write('\\nLR sched params: {}'.format(lr_params))\n",
    "        f.write('\\nLoss: {}'.format(str(loss).split('.')[4].split(' ')[0]))\n",
    "        f.write('\\nLabel smoothing: {}\\n\\n'.format(label_smoothing))\n",
    "    !cat {log_name}"
   ]
  },
  {
   "cell_type": "markdown",
   "metadata": {
    "id": "uLIM8hza2-Qm"
   },
   "source": [
    "# Training"
   ]
  },
  {
   "cell_type": "markdown",
   "metadata": {
    "id": "J7rxeMM6YlE7"
   },
   "source": [
    "For expediency, only 2 classifiers are trained in this notebook. To train more or all of the individual classifiers include their dictionaries from the **Training Dictionaries (Training Parameters)** in the `ensemble_components` list below. \n",
    "\n",
    "PS: As I reran this notebook, it seems memory provided by Colab was reduced from 16GB to 8GB. This may cause out-of-memory (OOM) problems when training EfficientNetB6 based classifiers with the specified settings. A work-around for these issues would be reducing the variable `IMAGES_PER_REPLICA` and/or the image target size for these classifiers."
   ]
  },
  {
   "cell_type": "code",
   "execution_count": 16,
   "metadata": {
    "cellView": "form",
    "id": "p2DKrpjlUfDP"
   },
   "outputs": [],
   "source": [
    "#@title Training Dictionaries (Training Parameters)\n",
    "#@markdown - EfficientNet B3\n",
    "EB3_F0 = {'base_model': efn_dict[3]['model'], \n",
    "            'DIM': efn_dict[3]['size'],\n",
    "            'opt': opts['Nadam'],\n",
    "            'weights': 'noisy-student',\n",
    "            'head_dropout': 0.5, \n",
    "            'name': 'EB3',\n",
    "            'fold': 0}  \n",
    "\n",
    "EB3_F1 = {'base_model': efn_dict[3]['model'], \n",
    "            'DIM': efn_dict[3]['size'],\n",
    "            'opt': opts['Nadam'],\n",
    "            'weights': 'noisy-student',\n",
    "            'head_dropout': False, \n",
    "            'name': 'EB3',\n",
    "            'fold': 1}  \n",
    "\n",
    "EB3_F2 = {'base_model': efn_dict[3]['model'], \n",
    "            'DIM': efn_dict[3]['size'],\n",
    "            'opt': opts['Radam'],\n",
    "            'weights': 'noisy-student',\n",
    "            'head_dropout': False, \n",
    "            'name': 'EB3',\n",
    "            'fold': 2}  \n",
    "\n",
    "EB3_F3 = {'base_model': efn_dict[3]['model'], \n",
    "            'DIM': efn_dict[3]['size'],\n",
    "            'opt': opts['Radam'],\n",
    "            'weights': 'noisy-student',\n",
    "            'head_dropout': 0.2, \n",
    "            'name': 'EB3',\n",
    "            'fold': 3}\n",
    "\n",
    "EB3_F4 = {'base_model': efn_dict[3]['model'], \n",
    "            'DIM': efn_dict[3]['size'],\n",
    "            'opt': opts['Radam'],\n",
    "            'weights': 'noisy-student',\n",
    "            'head_dropout': False, \n",
    "            'name': 'EB4',\n",
    "            'fold': 4}\n",
    "\n",
    "#@markdown - EfficientNet B4 \n",
    "EB4_F0 = {'base_model': efn_dict[4]['model'],\n",
    "            'DIM': efn_dict[4]['size'],\n",
    "            'opt': opts['Nadam'],\n",
    "            'weights': 'noisy-student',\n",
    "            'head_dropout': False,\n",
    "            'name': 'EB4',\n",
    "            'fold': 0}\n",
    "\n",
    "EB4_F1 = {'base_model': efn_dict[4]['model'],\n",
    "            'DIM': efn_dict[4]['size'],\n",
    "            'opt': opts['Radam'],\n",
    "            'weights': 'noisy-student',\n",
    "            'head_dropout': False,\n",
    "            'name': 'EB4',\n",
    "            'fold': 1}\n",
    "\n",
    "EB4_F2 = {'base_model': efn_dict[4]['model'],\n",
    "            'DIM': efn_dict[4]['size'],\n",
    "            'opt': opts['Nadam'],\n",
    "            'weights': 'noisy-student',\n",
    "            'head_dropout': False,\n",
    "            'name': 'EB4',\n",
    "            'fold': 2}\n",
    "\n",
    "EB4_F3 = {'base_model': efn_dict[4]['model'], \n",
    "            'DIM': efn_dict[4]['size'],\n",
    "            'opt': opts['Nadam'],\n",
    "            'weights': 'noisy-student',\n",
    "            'head_dropout': False,\n",
    "            'name': 'EB4',\n",
    "            'fold': 3}  \n",
    "\n",
    "EB4_F4 = {'base_model': efn_dict[4]['model'], \n",
    "            'DIM': efn_dict[4]['size'],\n",
    "            'opt': opts['Nadam'],\n",
    "            'weights': 'noisy-student',\n",
    "            'head_dropout': False, \n",
    "            'name': 'EB4',\n",
    "            'fold': 4}\n",
    "\n",
    "#@markdown - EfficientNet B6 \n",
    "EB6_F0 = {'base_model': efn_dict[6]['model'],\n",
    "            'DIM': efn_dict[6]['size'],\n",
    "            'opt': opts['Nadam'],\n",
    "            'weights': 'noisy-student',\n",
    "            'head_dropout': False,\n",
    "            'name': 'EB6',\n",
    "            'fold': 0}\n",
    "\n",
    "EB6_F1 = {'base_model': efn_dict[6]['model'],\n",
    "            'DIM': efn_dict[6]['size'],\n",
    "            'opt': opts['Radam'],\n",
    "            'weights': 'noisy-student',\n",
    "            'head_dropout': False,\n",
    "            'name': 'EB6',\n",
    "            'fold': 1}\n",
    "\n",
    "EB6_F2 = {'base_model': efn_dict[6]['model'],\n",
    "            'DIM': efn_dict[6]['size'],\n",
    "            'opt': opts['Nadam'],\n",
    "            'weights': 'noisy-student',\n",
    "            'head_dropout': False,\n",
    "            'name': 'EB6',\n",
    "            'fold': 2}\n",
    "\n",
    "EB6_F3 = {'base_model': efn_dict[6]['model'], \n",
    "            'DIM': efn_dict[6]['size'],\n",
    "            'opt': opts['Nadam'],\n",
    "            'weights': 'noisy-student',\n",
    "            'head_dropout': 0.2,\n",
    "            'name': 'EB6',\n",
    "            'fold': 3}\n",
    "\n",
    "EB6_F4 = {'base_model': efn_dict[6]['model'],\n",
    "            'DIM': efn_dict[6]['size'],\n",
    "            'opt': opts['Nadam'],\n",
    "            'weights': 'noisy-student',\n",
    "            'head_dropout': False,\n",
    "            'name': 'EB6',\n",
    "            'fold': 4}"
   ]
  },
  {
   "cell_type": "code",
   "execution_count": 17,
   "metadata": {
    "id": "U95tlf2B3C2c"
   },
   "outputs": [],
   "source": [
    "ensemble_components = [EB3_F1, EB4_F1]"
   ]
  },
  {
   "cell_type": "code",
   "execution_count": 18,
   "metadata": {
    "colab": {
     "base_uri": "https://localhost:8080/"
    },
    "id": "FcMlGUlR3X4W",
    "outputId": "ae314028-3712-4f52-8c92-73f7ec9922b3"
   },
   "outputs": [
    {
     "name": "stdout",
     "output_type": "stream",
     "text": [
      "Downloading data from https://github.com/qubvel/efficientnet/releases/download/v0.0.1/efficientnet-b3_noisy-student_notop.h5\n",
      "43933696/43933088 [==============================] - 1s 0us/step\n",
      "\n",
      "\n",
      "Dataset: shapes: ((None, 300, 300, 3), (None,)), types: (tf.float32, tf.int64)\n",
      "Dataset: shapes: ((None, 300, 300, 3), (None,)), types: (tf.float32, tf.int64)\n",
      "\n",
      "Base: Efficientnet-B3\n",
      "Fold num: 1\n",
      "Weights: noisy-student\n",
      "\n",
      "Validation shards: [3 4 5]\n",
      "Total training images: 39031\n",
      "Total val images: 6520\n",
      "Batch size: 128\n",
      "Max number of epochs: 16\n",
      "Steps per epoch: 305\n",
      "\n",
      "TPU implemented: Yes\n",
      "Number of replicas: 8\n",
      "Size of input: (300, 300, 3)\n",
      "Optimizer: Nadam\n",
      "LR strategy: LearningRateScheduler\n",
      "LR sched params: [1e-05, 0.0003, 1e-06, 2, 2, 0.8]\n",
      "Loss: BinaryCrossentropy\n",
      "Label smoothing: 0.05\n",
      "\n",
      "Epoch 1/16\n",
      "WARNING:tensorflow:From /usr/local/lib/python3.6/dist-packages/tensorflow/python/ops/resource_variable_ops.py:1817: calling BaseResourceVariable.__init__ (from tensorflow.python.ops.resource_variable_ops) with constraint is deprecated and will be removed in a future version.\n",
      "Instructions for updating:\n",
      "If using Keras pass *_constraint arguments to layers.\n",
      "305/305 [==============================] - 108s 353ms/step - loss: 0.3393 - auc: 0.6321 - val_loss: 0.1850 - val_auc: 0.7980 - lr: 1.0000e-05\n",
      "Epoch 2/16\n",
      "305/305 [==============================] - 91s 298ms/step - loss: 0.2354 - auc: 0.8623 - val_loss: 0.1689 - val_auc: 0.8747 - lr: 1.5500e-04\n",
      "Epoch 3/16\n",
      "305/305 [==============================] - 92s 300ms/step - loss: 0.2256 - auc: 0.8844 - val_loss: 0.1630 - val_auc: 0.8965 - lr: 3.0000e-04\n",
      "Epoch 4/16\n",
      "305/305 [==============================] - 88s 290ms/step - loss: 0.2187 - auc: 0.9073 - val_loss: 0.1595 - val_auc: 0.9064 - lr: 3.0000e-04\n",
      "Epoch 5/16\n",
      "305/305 [==============================] - 91s 297ms/step - loss: 0.2127 - auc: 0.9155 - val_loss: 0.1567 - val_auc: 0.9132 - lr: 3.0000e-04\n",
      "Epoch 6/16\n",
      "305/305 [==============================] - 87s 285ms/step - loss: 0.2073 - auc: 0.9268 - val_loss: 0.1574 - val_auc: 0.9199 - lr: 2.4020e-04\n",
      "Epoch 7/16\n",
      "305/305 [==============================] - 91s 298ms/step - loss: 0.2007 - auc: 0.9380 - val_loss: 0.1551 - val_auc: 0.9355 - lr: 1.9236e-04\n",
      "Epoch 8/16\n",
      "305/305 [==============================] - 83s 273ms/step - loss: 0.1950 - auc: 0.9469 - val_loss: 0.1558 - val_auc: 0.9099 - lr: 1.5409e-04\n",
      "Epoch 9/16\n",
      "305/305 [==============================] - 87s 287ms/step - loss: 0.1914 - auc: 0.9499 - val_loss: 0.1593 - val_auc: 0.9291 - lr: 1.2347e-04\n",
      "Epoch 10/16\n",
      "305/305 [==============================] - 83s 273ms/step - loss: 0.1856 - auc: 0.9579 - val_loss: 0.1567 - val_auc: 0.9216 - lr: 9.8976e-05\n",
      "Epoch 11/16\n",
      "305/305 [==============================] - 89s 291ms/step - loss: 0.1824 - auc: 0.9619 - val_loss: 0.1563 - val_auc: 0.9262 - lr: 7.9381e-05\n",
      "Epoch 12/16\n",
      "305/305 [==============================] - 86s 281ms/step - loss: 0.1785 - auc: 0.9661 - val_loss: 0.1546 - val_auc: 0.9291 - lr: 6.3705e-05\n",
      "Epoch 13/16\n",
      "305/305 [==============================] - 106s 347ms/step - loss: 0.1751 - auc: 0.9714 - val_loss: 0.1553 - val_auc: 0.9240 - lr: 5.1164e-05\n",
      "Epoch 14/16\n",
      "305/305 [==============================] - 101s 332ms/step - loss: 0.1752 - auc: 0.9709 - val_loss: 0.1560 - val_auc: 0.9323 - lr: 4.1131e-05\n",
      "Epoch 15/16\n",
      "305/305 [==============================] - 87s 287ms/step - loss: 0.1721 - auc: 0.9730 - val_loss: 0.1560 - val_auc: 0.9373 - lr: 3.3105e-05\n",
      "Epoch 16/16\n",
      "305/305 [==============================] - 83s 274ms/step - loss: 0.1681 - auc: 0.9756 - val_loss: 0.1560 - val_auc: 0.9333 - lr: 2.6684e-05\n",
      "Downloading data from https://github.com/qubvel/efficientnet/releases/download/v0.0.1/efficientnet-b4_noisy-student_notop.h5\n",
      "71680000/71678424 [==============================] - 1s 0us/step\n",
      "\n",
      "\n",
      "Dataset: shapes: ((None, 380, 380, 3), (None,)), types: (tf.float32, tf.int64)\n",
      "Dataset: shapes: ((None, 380, 380, 3), (None,)), types: (tf.float32, tf.int64)\n",
      "\n",
      "Base: Efficientnet-B4\n",
      "Fold num: 1\n",
      "Weights: noisy-student\n",
      "\n",
      "Validation shards: [3 4 5]\n",
      "Total training images: 39031\n",
      "Total val images: 6520\n",
      "Batch size: 128\n",
      "Max number of epochs: 16\n",
      "Steps per epoch: 305\n",
      "\n",
      "TPU implemented: Yes\n",
      "Number of replicas: 8\n",
      "Size of input: (380, 380, 3)\n",
      "Optimizer: Rectified_Adam\n",
      "LR strategy: LearningRateScheduler\n",
      "LR sched params: [1e-05, 0.0003, 1e-06, 2, 2, 0.8]\n",
      "Loss: BinaryCrossentropy\n",
      "Label smoothing: 0.05\n",
      "\n",
      "Epoch 1/16\n",
      "305/305 [==============================] - 175s 575ms/step - loss: 0.5389 - auc: 0.5248 - val_loss: 0.3327 - val_auc: 0.5812 - lr: 1.0000e-05\n",
      "Epoch 2/16\n",
      "305/305 [==============================] - 143s 468ms/step - loss: 0.2458 - auc: 0.8160 - val_loss: 0.1678 - val_auc: 0.8508 - lr: 1.5500e-04\n",
      "Epoch 3/16\n",
      "305/305 [==============================] - 137s 448ms/step - loss: 0.2333 - auc: 0.8698 - val_loss: 0.1741 - val_auc: 0.8602 - lr: 3.0000e-04\n",
      "Epoch 4/16\n",
      "305/305 [==============================] - 135s 443ms/step - loss: 0.2231 - auc: 0.8918 - val_loss: 0.1638 - val_auc: 0.8893 - lr: 3.0000e-04\n",
      "Epoch 5/16\n",
      "305/305 [==============================] - 138s 454ms/step - loss: 0.2177 - auc: 0.9056 - val_loss: 0.1644 - val_auc: 0.9112 - lr: 3.0000e-04\n",
      "Epoch 6/16\n",
      "305/305 [==============================] - 141s 462ms/step - loss: 0.2111 - auc: 0.9203 - val_loss: 0.1580 - val_auc: 0.9236 - lr: 2.4020e-04\n",
      "Epoch 7/16\n",
      "305/305 [==============================] - 132s 432ms/step - loss: 0.2052 - auc: 0.9278 - val_loss: 0.1628 - val_auc: 0.9041 - lr: 1.9236e-04\n",
      "Epoch 8/16\n",
      "305/305 [==============================] - 139s 457ms/step - loss: 0.2002 - auc: 0.9363 - val_loss: 0.1636 - val_auc: 0.9314 - lr: 1.5409e-04\n",
      "Epoch 9/16\n",
      "305/305 [==============================] - 133s 437ms/step - loss: 0.1953 - auc: 0.9470 - val_loss: 0.1594 - val_auc: 0.9200 - lr: 1.2347e-04\n",
      "Epoch 10/16\n",
      "305/305 [==============================] - 134s 439ms/step - loss: 0.1919 - auc: 0.9497 - val_loss: 0.1551 - val_auc: 0.9213 - lr: 9.8976e-05\n",
      "Epoch 11/16\n",
      "305/305 [==============================] - 133s 436ms/step - loss: 0.1862 - auc: 0.9542 - val_loss: 0.1588 - val_auc: 0.9161 - lr: 7.9381e-05\n",
      "Epoch 12/16\n",
      "305/305 [==============================] - 136s 446ms/step - loss: 0.1824 - auc: 0.9588 - val_loss: 0.1576 - val_auc: 0.9072 - lr: 6.3705e-05\n",
      "Epoch 13/16\n",
      "305/305 [==============================] - 133s 437ms/step - loss: 0.1809 - auc: 0.9629 - val_loss: 0.1570 - val_auc: 0.9094 - lr: 5.1164e-05\n",
      "Epoch 14/16\n",
      "305/305 [==============================] - 140s 460ms/step - loss: 0.1786 - auc: 0.9654 - val_loss: 0.1571 - val_auc: 0.9203 - lr: 4.1131e-05\n",
      "Epoch 15/16\n",
      "305/305 [==============================] - 138s 452ms/step - loss: 0.1750 - auc: 0.9685 - val_loss: 0.1589 - val_auc: 0.9039 - lr: 3.3105e-05\n",
      "Epoch 16/16\n",
      "305/305 [==============================] - 149s 490ms/step - loss: 0.1729 - auc: 0.9732 - val_loss: 0.1585 - val_auc: 0.9111 - lr: 2.6684e-05\n"
     ]
    }
   ],
   "source": [
    "for component_dict in ensemble_components:\n",
    "    model, base_name = ensemble_component(component_dict)\n",
    "    train_dataset, valid_dataset, STEPS_PER_EPOCH, counts = build_datasets(component_dict)\n",
    "    sess_summary(component_dict, counts, dataset_deets = True)\n",
    "\n",
    "    weights_file = '{}_F{}_weights.h5'.format(component_dict['name'], component_dict['fold'])\n",
    "    component_dict['weights_file'] = weights_file\n",
    "    checkpoint = config_checkpoint(weights_file)\n",
    "\n",
    "    history = model.fit(train_dataset, epochs=EPOCHS, verbose=True, \n",
    "                        steps_per_epoch=STEPS_PER_EPOCH,\n",
    "                        callbacks=[checkpoint, lr_sched],\n",
    "                        validation_data=valid_dataset)"
   ]
  },
  {
   "cell_type": "markdown",
   "metadata": {
    "id": "Lsyv-OANJl23"
   },
   "source": [
    "# Performance Anaysis"
   ]
  },
  {
   "cell_type": "code",
   "execution_count": 19,
   "metadata": {
    "cellView": "form",
    "id": "KNVFAOtLXMJb"
   },
   "outputs": [],
   "source": [
    "#@markdown Rebuild Classifiers Functions (for Inference)\n",
    "#@markdown - Build untrained classifier\n",
    "def get_untrained_model(model_dict):\n",
    "    # Get Specs\n",
    "    base_model = model_dict['base_model']\n",
    "    DIM = model_dict['DIM']\n",
    "    INPUT_SHAPE = (DIM, DIM, N_CHANNELS)\n",
    "\n",
    "    # Build Model\n",
    "    K.clear_session()\n",
    "    with strategy.scope():\n",
    "        base = base_model(weights=None, include_top=False, input_shape=INPUT_SHAPE)                                       \n",
    "        model = build_model(base, N_CLASSES, INPUT_SHAPE) \n",
    "        model.compile(optimizer='adam', loss='binary_crossentropy', metrics=['AUC']) \n",
    "\n",
    "    print('Built {} based model with random weights'.format(base.name.title()))\n",
    "    return model\n",
    "#@markdown - Load trained weights\n",
    "def switch_weights(model, model_dict):\n",
    "    weights_path = model_dict['weights_file']\n",
    "    model.load_weights(weights_path)\n",
    "    print('Assigned FOLD {} weights to {}-based model'.format(\n",
    "        model_dict['fold'], model.name.split('_')[0]))\n",
    "    return model"
   ]
  },
  {
   "cell_type": "code",
   "execution_count": 20,
   "metadata": {
    "cellView": "form",
    "id": "Sv_SfPdoKrx3"
   },
   "outputs": [],
   "source": [
    "#@markdown Inference TFRecs Processing Functions\n",
    "#@markdown - Unaugmented Dataset API Pipeline\n",
    "#@markdown - Test Time Augmentation (TTA) Dataset API Pipeline\n",
    "\n",
    "def unaugmented_val_dataset(fold_num, DIM, ordered = True):\n",
    "    # Fold Filenames, Counts\n",
    "    print('\\nGetting validation filenames and dataset for FOLD {} and SIZE {}'.format(\n",
    "        fold_num, DIM))\n",
    "    VALIDATION_FILENAMES = get_fold_file_lists(folds[fold_num], data_2018=False)[1]\n",
    "    NUM_VALIDATION_IMAGES = count_data_items(VALIDATION_FILENAMES)\n",
    "    # Dataset\n",
    "    valid_dataset = get_validation_dataset(VALIDATION_FILENAMES, dim = DIM, \n",
    "                                           ordered = ordered)\n",
    "    print('Number of validation images: {}'.format(NUM_VALIDATION_IMAGES))\n",
    "    describe_ds(valid_dataset)\n",
    "    return valid_dataset, VALIDATION_FILENAMES, NUM_VALIDATION_IMAGES\n",
    "\n",
    "def tta_validation_datasets(file_list, dim):\n",
    "    dataset = load_dataset(file_list, ordered = True) \n",
    "    # extract images and augment for TTA\n",
    "    dataset_aug = dataset.map(lambda image, image_name, target: \n",
    "                          resize_transforms(image, target, True, [dim, dim]), \n",
    "                          num_parallel_calls=AUTO)\n",
    "    dataset_aug = dataset_aug.map(lambda image, target: \n",
    "                          data_augment(image, target, DIM = dim), \n",
    "                          num_parallel_calls=AUTO)\n",
    "    dataset_aug = dataset_aug.map(lambda image, target: image)\n",
    "    dataset_aug = dataset_aug.repeat() # will repeat for TTA\n",
    "    dataset_aug = dataset_aug.batch(BATCH_SIZE)\n",
    "    dataset_aug = dataset_aug.prefetch(AUTO)\n",
    "    dataset = dataset.prefetch(AUTO) # return this to extract names and targets\n",
    "    return dataset_aug, dataset"
   ]
  },
  {
   "cell_type": "code",
   "execution_count": 21,
   "metadata": {
    "cellView": "form",
    "id": "LuN0HP75M3Av"
   },
   "outputs": [],
   "source": [
    "#@markdown Prediction Function\n",
    "def get_predictions(valid_dataset, valid_orig_imgs, valid_aug_imgs, TTA, NUM_VALIDATION_IMAGES, TTA_STEPS):\n",
    "    print('\\nMaking Predictions:')\n",
    "    eval = model.evaluate(valid_dataset, verbose=True, return_dict=False) # evaluation as in training\n",
    "    pred_orig = model.predict(valid_orig_imgs, verbose=1) # these are the predictions on the un-augmented valid set\n",
    "    preds_aug = model.predict(valid_aug_imgs, steps=TTA_STEPS, verbose=1)[:TTA*NUM_VALIDATION_IMAGES,] # these are the predictions on the augmented valid set\n",
    "    # slice will make sure I have the right number of predictions\n",
    "    tta_preds = preds_aug.reshape((NUM_VALIDATION_IMAGES, TTA), order='F')\n",
    "    return eval, pred_orig, tta_preds"
   ]
  },
  {
   "cell_type": "code",
   "execution_count": 22,
   "metadata": {
    "cellView": "form",
    "id": "70FR3_QoR0s7"
   },
   "outputs": [],
   "source": [
    "#@markdown Folds Models Lists\n",
    "models_fold_0 = [EB3_F0, EB4_F0, EB6_F0]\n",
    "models_fold_1 = [EB3_F1, EB4_F1, EB6_F1]\n",
    "models_fold_2 = [EB3_F2, EB4_F2, EB6_F2]\n",
    "models_fold_3 = [EB3_F3, EB4_F3, EB6_F3]\n",
    "models_fold_4 = [EB3_F4, EB4_F4, EB6_F4]\n",
    "\n",
    "models_folds = [models_fold_0, models_fold_1, models_fold_2, \n",
    "                models_fold_3, models_fold_4]"
   ]
  },
  {
   "cell_type": "markdown",
   "metadata": {
    "id": "8irCfyAMcbm4"
   },
   "source": [
    "The loop below will perform predictions en evaluation of the 2 classifiers trained above. To include more classifiers adjust the `folds_idx` and `efn_vers_idx` lists below accordingly. If training all classifiers, can simply uncomment/comment the alternative lines at the start of the OUTER and INNER `for` loops.\n",
    "\n",
    "\n"
   ]
  },
  {
   "cell_type": "code",
   "execution_count": 23,
   "metadata": {
    "id": "YQNYO4VXh9GK"
   },
   "outputs": [],
   "source": [
    "folds_idx = [1] # the index in models_folds of the fold to be used\n",
    "efn_vers_idx = [0, 1] # the index of the efn version to be used 0 for B3, 1 for B4, 2 for B6"
   ]
  },
  {
   "cell_type": "code",
   "execution_count": 24,
   "metadata": {
    "cellView": "form",
    "colab": {
     "base_uri": "https://localhost:8080/",
     "height": 704
    },
    "id": "Hh5a6nS1R0xJ",
    "outputId": "c338e27b-cf89-4345-f982-3eb0f58e051d"
   },
   "outputs": [
    {
     "name": "stdout",
     "output_type": "stream",
     "text": [
      "Processing models for FOLD 1 \n",
      "Getting targets and names\n",
      "TTA steps: 1529, number of aug preds: 195712, min aug preds required: 195600\n",
      "Built Efficientnet-B3 based model with random weights\n",
      "Assigned FOLD 1 weights to Efficientnet-B3-based model\n",
      "\n",
      "Getting validation filenames and dataset for FOLD 1 and SIZE 300\n",
      "Number of validation images: 6520\n",
      "Dataset: shapes: ((None, 300, 300, 3), (None,)), types: (tf.float32, tf.int64)\n",
      "\n",
      "Making Predictions:\n",
      "51/51 [==============================] - 10s 200ms/step - auc: 0.9355 - loss: 0.0708\n",
      "51/51 [==============================] - 8s 157ms/step\n",
      "1529/1529 [==============================] - 246s 161ms/step\n",
      "\n",
      "Evaluation Results:\n"
     ]
    },
    {
     "data": {
      "text/html": [
       "<div>\n",
       "<style scoped>\n",
       "    .dataframe tbody tr th:only-of-type {\n",
       "        vertical-align: middle;\n",
       "    }\n",
       "\n",
       "    .dataframe tbody tr th {\n",
       "        vertical-align: top;\n",
       "    }\n",
       "\n",
       "    .dataframe thead th {\n",
       "        text-align: right;\n",
       "    }\n",
       "</style>\n",
       "<table border=\"1\" class=\"dataframe\">\n",
       "  <thead>\n",
       "    <tr style=\"text-align: right;\">\n",
       "      <th></th>\n",
       "      <th>component</th>\n",
       "      <th>tf_eval</th>\n",
       "      <th>no_aug</th>\n",
       "      <th>tta_10</th>\n",
       "      <th>tta_20</th>\n",
       "      <th>tta_30</th>\n",
       "      <th>best</th>\n",
       "    </tr>\n",
       "  </thead>\n",
       "  <tbody>\n",
       "    <tr>\n",
       "      <th>0</th>\n",
       "      <td>EB3_F1</td>\n",
       "      <td>0.93552</td>\n",
       "      <td>0.940332</td>\n",
       "      <td>0.940956</td>\n",
       "      <td>0.940589</td>\n",
       "      <td>0.942109</td>\n",
       "      <td>tta_30</td>\n",
       "    </tr>\n",
       "  </tbody>\n",
       "</table>\n",
       "</div>"
      ],
      "text/plain": [
       "  component  tf_eval    no_aug    tta_10    tta_20    tta_30    best\n",
       "0    EB3_F1  0.93552  0.940332  0.940956  0.940589  0.942109  tta_30"
      ]
     },
     "metadata": {
      "tags": []
     },
     "output_type": "display_data"
    },
    {
     "name": "stdout",
     "output_type": "stream",
     "text": [
      "\n",
      "\n",
      "Built Efficientnet-B4 based model with random weights\n",
      "Assigned FOLD 1 weights to Efficientnet-B4-based model\n",
      "\n",
      "Getting validation filenames and dataset for FOLD 1 and SIZE 380\n",
      "Number of validation images: 6520\n",
      "Dataset: shapes: ((None, 380, 380, 3), (None,)), types: (tf.float32, tf.int64)\n",
      "\n",
      "Making Predictions:\n",
      "51/51 [==============================] - 14s 270ms/step - auc: 0.9317 - loss: 0.0851\n",
      "51/51 [==============================] - 12s 243ms/step\n",
      "1529/1529 [==============================] - 303s 198ms/step\n",
      "\n",
      "Evaluation Results:\n"
     ]
    },
    {
     "data": {
      "text/html": [
       "<div>\n",
       "<style scoped>\n",
       "    .dataframe tbody tr th:only-of-type {\n",
       "        vertical-align: middle;\n",
       "    }\n",
       "\n",
       "    .dataframe tbody tr th {\n",
       "        vertical-align: top;\n",
       "    }\n",
       "\n",
       "    .dataframe thead th {\n",
       "        text-align: right;\n",
       "    }\n",
       "</style>\n",
       "<table border=\"1\" class=\"dataframe\">\n",
       "  <thead>\n",
       "    <tr style=\"text-align: right;\">\n",
       "      <th></th>\n",
       "      <th>component</th>\n",
       "      <th>tf_eval</th>\n",
       "      <th>no_aug</th>\n",
       "      <th>tta_10</th>\n",
       "      <th>tta_20</th>\n",
       "      <th>tta_30</th>\n",
       "      <th>best</th>\n",
       "    </tr>\n",
       "  </thead>\n",
       "  <tbody>\n",
       "    <tr>\n",
       "      <th>0</th>\n",
       "      <td>EB4_F1</td>\n",
       "      <td>0.93174</td>\n",
       "      <td>0.931739</td>\n",
       "      <td>0.929871</td>\n",
       "      <td>0.930796</td>\n",
       "      <td>0.931905</td>\n",
       "      <td>tta_30</td>\n",
       "    </tr>\n",
       "  </tbody>\n",
       "</table>\n",
       "</div>"
      ],
      "text/plain": [
       "  component  tf_eval    no_aug    tta_10    tta_20    tta_30    best\n",
       "0    EB4_F1  0.93174  0.931739  0.929871  0.930796  0.931905  tta_30"
      ]
     },
     "metadata": {
      "tags": []
     },
     "output_type": "display_data"
    },
    {
     "name": "stdout",
     "output_type": "stream",
     "text": [
      "\n",
      "\n"
     ]
    }
   ],
   "source": [
    "#@markdown Prediction and Evaluation Loop\n",
    "TTA = 30 # Test time augmentation Steps \n",
    "cols = ['component', 'tf_eval', 'no_aug', 'tta_10', 'tta_20', 'tta_30', 'best']\n",
    "\n",
    "aucsDF = pd.DataFrame(columns = cols)\n",
    "\n",
    "# for fold_num, models_fold in enumerate(models_folds): # START OUTER LOOP\n",
    "for fold_num in folds_idx: # START OUTER LOOP\n",
    "    print('Processing models for FOLD {} \\nGetting targets and names'.format(fold_num))\n",
    "\n",
    "    models_fold = models_folds[fold_num]\n",
    "    VALIDATION_FILENAMES = get_fold_file_lists(folds[fold_num], data_2018=False)[1]\n",
    "    NUM_VALIDATION_IMAGES = count_data_items(VALIDATION_FILENAMES)\n",
    "    valid_ordered = tta_validation_datasets(VALIDATION_FILENAMES, dim = 100)[1] \n",
    "    # dim above is not relevant so choose anything, will only need the labels and ids\n",
    "\n",
    "    # retrive the targets\n",
    "    val_targets_ds = valid_ordered.map(lambda image, image_name, target: target)\n",
    "    val_targets = np.array([target.numpy() for target in iter(val_targets_ds)])\n",
    "    \n",
    "    # retrieve image names\n",
    "    val_names_ds = valid_ordered.map(lambda image, image_name, target: image_name)\n",
    "    val_names = [image_name.numpy().decode(\"utf-8\") for image_name in iter(val_names_ds)] \n",
    "\n",
    "    TTA_STEPS = np.ceil(TTA * NUM_VALIDATION_IMAGES/BATCH_SIZE).astype(int)\n",
    "    assert TTA_STEPS*BATCH_SIZE >= NUM_VALIDATION_IMAGES*TTA\n",
    "    print('TTA steps: {}, number of aug preds: {}, min aug preds required: {}'.format(\n",
    "    TTA_STEPS, TTA_STEPS*BATCH_SIZE, NUM_VALIDATION_IMAGES*TTA))\n",
    "\n",
    "    # Create one of this for each FOLD, put info of all 3 models here. \n",
    "    predsDF = pd.DataFrame({'image_name': val_names, 'target': val_targets})\n",
    "\n",
    "    # for model_index, model_dict in enumerate(models_fold): # START INNER LOOP\n",
    "    for model_index in efn_vers_idx: # START INNER LOOP\n",
    "        model_dict = models_fold[model_index]\n",
    "\n",
    "        model = get_untrained_model(model_dict) \n",
    "        DIM = model_dict['DIM']\n",
    "        model = switch_weights(model, model_dict)\n",
    "\n",
    "        valid_dataset, VALIDATION_FILENAMES_used, _ = unaugmented_val_dataset(model_dict['fold'], DIM)\n",
    "        assert VALIDATION_FILENAMES == VALIDATION_FILENAMES_used, 'VALIDATION_FILENAMES are not the same'\n",
    "\n",
    "        valid_orig_imgs = valid_dataset.map(lambda image, target: image)\n",
    "        valid_aug_imgs  = tta_validation_datasets(VALIDATION_FILENAMES, DIM)[0]\n",
    "\n",
    "        eval, pred_orig, tta_preds = get_predictions(valid_dataset, valid_orig_imgs, \n",
    "                                                     valid_aug_imgs, TTA, NUM_VALIDATION_IMAGES, TTA_STEPS)\n",
    "        eval_auc = round(eval[1], 5)\n",
    "\n",
    "        col_prefix = '{}_F{}'.format(model_dict['name'], model_dict['fold'])\n",
    "        predsDF[col_prefix+'_NOAUG'] = pred_orig\n",
    "        predsDF[col_prefix+'_TTA10'] = np.mean(tta_preds[:,:10], axis = 1)\n",
    "        predsDF[col_prefix+'_TTA20'] = np.mean(tta_preds[:,:20], axis = 1)\n",
    "        predsDF[col_prefix+'_TTA30'] = np.mean(tta_preds, axis = 1)\n",
    "\n",
    "        AUCs = {}\n",
    "        AUCs['component'] = col_prefix\n",
    "        AUCs['tf_eval'] = eval_auc\n",
    "        AUCs['no_aug'] = roc_auc_score(val_targets, pred_orig)\n",
    "        AUCs['tta_10'] = roc_auc_score(val_targets, predsDF[col_prefix+'_TTA10'])\n",
    "        AUCs['tta_20'] = roc_auc_score(val_targets, predsDF[col_prefix+'_TTA20'])\n",
    "        AUCs['tta_30'] = roc_auc_score(val_targets, predsDF[col_prefix+'_TTA30'])\n",
    "\n",
    "        aucsDF = aucsDF.append([AUCs])\n",
    "        aucsDF['best']=aucsDF[aucsDF.columns[-5:-1]].idxmax(axis=1) \n",
    "        print('\\nEvaluation Results:')\n",
    "        display(aucsDF[aucsDF.component == col_prefix])\n",
    "        print('\\n')\n",
    "        # END inner loop\n",
    "\n",
    "    # back to outer loop\n",
    "    preds_file_name = 'preds_fold_{}.csv'.format(fold_num)\n",
    "    predsDF.to_csv(preds_file_name, index=False)\n",
    "\n",
    "# END of outer loop\n",
    "aucsDF.to_csv('AUCS.csv', index=False)"
   ]
  },
  {
   "cell_type": "markdown",
   "metadata": {
    "id": "QFqgcswLcuSG"
   },
   "source": [
    "# Post-Process"
   ]
  },
  {
   "cell_type": "markdown",
   "metadata": {
    "id": "yY368Bqcsetn"
   },
   "source": [
    "The following shows the performance of the stacked predictions from the EfficientNetB3 and EfficientNetB4 classifiers trained above using the data corresponding to cross-validation fold 1. The predictions are calculated by taking the simple-mean of each of these two classifiers' predictions. The averaged prediction overperforms any of the individual predictions as seen when compared with the results on the `aucsDF` table below. \n",
    "\n",
    "At test time however, stacking was done more methodically:\n",
    "\n",
    "- For each classifier, predictions were made on un-augmented images as well as with up to 30 random TTAs. For the TTA predictions, all predictions were weighted equally. If TTA predictions overperformed un-augmented predictions, a TTA strategy was chosen at test time, otherwise un-augmented predictions were used. If substantial improvement was perceived with more TTAs, up to 30 TTAs were used.  \n",
    "\n",
    "- For classifiers trained within the same cross-validation fold, weights were assigned to the predictions from each of the 3 EfficientNet versions according to their performance on the OOF data during validation. Weights were assigned through a grid search algorithm that maximized the OOF AUC value. This yielded 5 predictions, each corresponding to 1 of the 5 cross-validation folds.\n",
    "\n",
    "- At test time, the 5 predictions above were then weighted equally (i.e. simple-averaged) to yield a single prediction. \n"
   ]
  },
  {
   "cell_type": "code",
   "execution_count": 25,
   "metadata": {
    "colab": {
     "base_uri": "https://localhost:8080/",
     "height": 142
    },
    "id": "5wJGtIHx-QbP",
    "outputId": "c76a483e-68a1-4f7a-f92c-f0066e09559c"
   },
   "outputs": [
    {
     "data": {
      "text/html": [
       "<div>\n",
       "<style scoped>\n",
       "    .dataframe tbody tr th:only-of-type {\n",
       "        vertical-align: middle;\n",
       "    }\n",
       "\n",
       "    .dataframe tbody tr th {\n",
       "        vertical-align: top;\n",
       "    }\n",
       "\n",
       "    .dataframe thead th {\n",
       "        text-align: right;\n",
       "    }\n",
       "</style>\n",
       "<table border=\"1\" class=\"dataframe\">\n",
       "  <thead>\n",
       "    <tr style=\"text-align: right;\">\n",
       "      <th></th>\n",
       "      <th>image_name</th>\n",
       "      <th>target</th>\n",
       "      <th>EB3_F1_NOAUG</th>\n",
       "      <th>EB3_F1_TTA10</th>\n",
       "      <th>EB3_F1_TTA20</th>\n",
       "      <th>EB3_F1_TTA30</th>\n",
       "      <th>EB4_F1_NOAUG</th>\n",
       "      <th>EB4_F1_TTA10</th>\n",
       "      <th>EB4_F1_TTA20</th>\n",
       "      <th>EB4_F1_TTA30</th>\n",
       "    </tr>\n",
       "  </thead>\n",
       "  <tbody>\n",
       "    <tr>\n",
       "      <th>0</th>\n",
       "      <td>ISIC_0077472</td>\n",
       "      <td>0</td>\n",
       "      <td>0.022262</td>\n",
       "      <td>0.023230</td>\n",
       "      <td>0.023153</td>\n",
       "      <td>0.022703</td>\n",
       "      <td>0.030660</td>\n",
       "      <td>0.025339</td>\n",
       "      <td>0.025482</td>\n",
       "      <td>0.025406</td>\n",
       "    </tr>\n",
       "    <tr>\n",
       "      <th>1</th>\n",
       "      <td>ISIC_0077735</td>\n",
       "      <td>0</td>\n",
       "      <td>0.023572</td>\n",
       "      <td>0.025459</td>\n",
       "      <td>0.025212</td>\n",
       "      <td>0.025443</td>\n",
       "      <td>0.029824</td>\n",
       "      <td>0.036223</td>\n",
       "      <td>0.037691</td>\n",
       "      <td>0.037663</td>\n",
       "    </tr>\n",
       "    <tr>\n",
       "      <th>2</th>\n",
       "      <td>ISIC_0082348</td>\n",
       "      <td>0</td>\n",
       "      <td>0.019453</td>\n",
       "      <td>0.021140</td>\n",
       "      <td>0.021972</td>\n",
       "      <td>0.021857</td>\n",
       "      <td>0.022348</td>\n",
       "      <td>0.025250</td>\n",
       "      <td>0.025110</td>\n",
       "      <td>0.024816</td>\n",
       "    </tr>\n",
       "  </tbody>\n",
       "</table>\n",
       "</div>"
      ],
      "text/plain": [
       "     image_name  target  EB3_F1_NOAUG  ...  EB4_F1_TTA10  EB4_F1_TTA20  EB4_F1_TTA30\n",
       "0  ISIC_0077472       0      0.022262  ...      0.025339      0.025482      0.025406\n",
       "1  ISIC_0077735       0      0.023572  ...      0.036223      0.037691      0.037663\n",
       "2  ISIC_0082348       0      0.019453  ...      0.025250      0.025110      0.024816\n",
       "\n",
       "[3 rows x 10 columns]"
      ]
     },
     "execution_count": 25,
     "metadata": {
      "tags": []
     },
     "output_type": "execute_result"
    }
   ],
   "source": [
    "predsDF.head(3)"
   ]
  },
  {
   "cell_type": "code",
   "execution_count": 26,
   "metadata": {
    "colab": {
     "base_uri": "https://localhost:8080/",
     "height": 111
    },
    "id": "yyMkfhTl-t9f",
    "outputId": "c0c07a6f-ed15-4507-db34-712e17c15077"
   },
   "outputs": [
    {
     "data": {
      "text/html": [
       "<div>\n",
       "<style scoped>\n",
       "    .dataframe tbody tr th:only-of-type {\n",
       "        vertical-align: middle;\n",
       "    }\n",
       "\n",
       "    .dataframe tbody tr th {\n",
       "        vertical-align: top;\n",
       "    }\n",
       "\n",
       "    .dataframe thead th {\n",
       "        text-align: right;\n",
       "    }\n",
       "</style>\n",
       "<table border=\"1\" class=\"dataframe\">\n",
       "  <thead>\n",
       "    <tr style=\"text-align: right;\">\n",
       "      <th></th>\n",
       "      <th>component</th>\n",
       "      <th>tf_eval</th>\n",
       "      <th>no_aug</th>\n",
       "      <th>tta_10</th>\n",
       "      <th>tta_20</th>\n",
       "      <th>tta_30</th>\n",
       "      <th>best</th>\n",
       "    </tr>\n",
       "  </thead>\n",
       "  <tbody>\n",
       "    <tr>\n",
       "      <th>0</th>\n",
       "      <td>EB3_F1</td>\n",
       "      <td>0.93552</td>\n",
       "      <td>0.940332</td>\n",
       "      <td>0.940956</td>\n",
       "      <td>0.940589</td>\n",
       "      <td>0.942109</td>\n",
       "      <td>tta_20</td>\n",
       "    </tr>\n",
       "    <tr>\n",
       "      <th>0</th>\n",
       "      <td>EB4_F1</td>\n",
       "      <td>0.93174</td>\n",
       "      <td>0.931739</td>\n",
       "      <td>0.929871</td>\n",
       "      <td>0.930796</td>\n",
       "      <td>0.931905</td>\n",
       "      <td>no_aug</td>\n",
       "    </tr>\n",
       "  </tbody>\n",
       "</table>\n",
       "</div>"
      ],
      "text/plain": [
       "  component  tf_eval    no_aug    tta_10    tta_20    tta_30    best\n",
       "0    EB3_F1  0.93552  0.940332  0.940956  0.940589  0.942109  tta_20\n",
       "0    EB4_F1  0.93174  0.931739  0.929871  0.930796  0.931905  no_aug"
      ]
     },
     "execution_count": 26,
     "metadata": {
      "tags": []
     },
     "output_type": "execute_result"
    }
   ],
   "source": [
    "aucsDF"
   ]
  },
  {
   "cell_type": "code",
   "execution_count": 27,
   "metadata": {
    "colab": {
     "base_uri": "https://localhost:8080/"
    },
    "id": "M1IvmIPCl-xa",
    "outputId": "56332742-b4da-4990-92a5-415a918cc3f9"
   },
   "outputs": [
    {
     "name": "stdout",
     "output_type": "stream",
     "text": [
      "Ensemble AUC: 0.94904\n"
     ]
    }
   ],
   "source": [
    "ensemble_preds = predsDF[['EB3_F1_NOAUG', 'EB4_F1_NOAUG']].mean(axis=1)\n",
    "print('Ensemble AUC: {:.5f}'.format(roc_auc_score(predsDF.target, ensemble_preds)))"
   ]
  },
  {
   "cell_type": "markdown",
   "metadata": {
    "id": "eXqQ9K5MKP9T"
   },
   "source": [
    "# Conclusion\n",
    "\n",
    "This notebook showed my solution to the Kaggle SIIM-ISIC Melanoma Classification. The goal of the competition was to identify melanoma in images of skin lesions. The solution consisted on an ensemble of 15 EfficientNet-based CNN image classifiers. \n",
    "\n",
    "Although the number of classifiers in the ensemble seems high and could seem impractical, the increase in this number showed to consistently improve performance during development. This has also been reported by [others]( https://www.kaggle.com/c/siim-isic-melanoma-classification/discussion/175412). Additionally, the ability to develop larger and more complex models using TPUs make these types of experiments a lot more practical. Transfer learning through the use of pretrained imagenet and noisy-student weights also lowered the training burden significantly. \n",
    "\n",
    "One part of the challenge was to incorporate contextual patient data. Such data, which was facilitated by the hosts, provided some patient metadata such as age and sex, as well as data to map each image to a patient and anatomical area. My attempts to incorporate such data did not improve on the results provided by the CNNs reported in this notebook. However, other solutions seem to have achieved this, for the example, the [winning solution]( https://www.kaggle.com/c/siim-isic-melanoma-classification/discussion/175412). \n",
    "\n",
    "Other notable (failed) attempted strategy was training an EfficientNetB7-based noisy student. Although this seemed to consistently improve performance in the various OOF data, such improvement did not translate when used on the test data. \n",
    "\n",
    "After looking at other solutions, it appears that the solution on this notebook unnecessarily used too-large images. Others were able to achieve relatively better results with lower resolution images during training. For me, the classifiers achieved better performance when images were resized to their corresponding original EfficientNet sizes. This should be considered in future projects, as using smaller resolution images could dramatically speed up training and development. \n"
   ]
  }
 ],
 "metadata": {
  "accelerator": "TPU",
  "colab": {
   "collapsed_sections": [
    "DKnbu6crPPPh",
    "mQZEAaS03Brw",
    "_c4FhG1puvxz",
    "7zy9Qo669L5D"
   ],
   "name": "Melanoma_Identification_2020.ipynb",
   "provenance": [],
   "toc_visible": true
  },
  "kernelspec": {
   "display_name": "Python 3",
   "language": "python",
   "name": "python3"
  },
  "language_info": {
   "codemirror_mode": {
    "name": "ipython",
    "version": 3
   },
   "file_extension": ".py",
   "mimetype": "text/x-python",
   "name": "python",
   "nbconvert_exporter": "python",
   "pygments_lexer": "ipython3",
   "version": "3.8.3"
  }
 },
 "nbformat": 4,
 "nbformat_minor": 1
}
